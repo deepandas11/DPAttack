{
 "cells": [
  {
   "cell_type": "code",
   "execution_count": 1,
   "metadata": {},
   "outputs": [],
   "source": [
    "import os\n",
    "\n",
    "import matplotlib.pyplot as plt\n",
    "import numpy as np\n",
    "import pandas as pd\n",
    "\n",
    "%load_ext autoreload\n",
    "%autoreload 2\n",
    "%matplotlib inline"
   ]
  },
  {
   "cell_type": "code",
   "execution_count": 2,
   "metadata": {},
   "outputs": [],
   "source": [
    "def find_final_cm(logpath, numclass=10, src_class=6):\n",
    "\n",
    "    with open(logpath, \"r\") as f:\n",
    "        file_lines = [line.strip() for line in f.readlines()]\n",
    "\n",
    "    mat_str = file_lines[-13:-3]\n",
    "    mat_str[0] = mat_str[0][1:]\n",
    "    mat_str[-1] = mat_str[-1][:-1]\n",
    "\n",
    "    cm = []\n",
    "\n",
    "    for row_idx in range(numclass):\n",
    "        row = mat_str[row_idx].split(\"[\")[1].split(\"]\")[0]\n",
    "        row = row.replace(\"  \", \" \")\n",
    "        row = row.split(\" \")\n",
    "        new_row = []\n",
    "        for item in row:\n",
    "            try:\n",
    "                new_row.append(int(item))\n",
    "            except:\n",
    "                continue    \n",
    "        cm.append(np.array([int(item) for item in new_row]))\n",
    "\n",
    "    cm = np.stack(cm)\n",
    "    \n",
    "    # Src recall precision\n",
    "    class_prec, class_rec = 0, 0\n",
    "    precrec_mat = file_lines[-29:-19]\n",
    "    class_cm = precrec_mat[src_class].split(\" \")\n",
    "    metrics = [float(item) for item in class_cm if item != '']\n",
    "    class_prec, class_rec = metrics[1], metrics[2]\n",
    "        \n",
    "        \n",
    "    # Accuracy\n",
    "    acc_vec = [float(item) for item in file_lines[-18].split(\" \") if (item != '' and not item.isalpha())]\n",
    "    acc = acc_vec[-2]\n",
    "\n",
    "    return {\n",
    "        \"cm\" : cm,\n",
    "        \"acc\" : acc,\n",
    "        \"src_rec\" : class_rec,\n",
    "        \"src_prec\": class_prec\n",
    "    }\n",
    "\n",
    "\n",
    "def find_results(logdir, src_class):\n",
    "    all_logs = os.listdir(logdir)\n",
    "    all_res = []\n",
    "    for i, path in enumerate(all_logs):\n",
    "        path = os.path.join(logdir, path)\n",
    "        all_res.append(find_final_cm(path, src_class=src_class))\n",
    "        \n",
    "    acc = [item['acc'] for item in all_res]\n",
    "    src_recall = [item['src_rec'] for item in all_res]\n",
    "    cm = sum([item['cm'] for item in all_res])/ len(acc)\n",
    "    \n",
    "    print(\"Average accuracy : \", sum(acc)/len(acc))\n",
    "    print(\"Source Recall : \", sum(src_recall)/len(acc))\n",
    "    \n",
    "    plt.imshow(cm, cmap='jet')\n",
    "    plt.title(f\"Source Class : {src_class}\")\n",
    "    \n",
    "    return all_res, cm"
   ]
  },
  {
   "cell_type": "code",
   "execution_count": 4,
   "metadata": {},
   "outputs": [
    {
     "name": "stdout",
     "output_type": "stream",
     "text": [
      "Average accuracy :  0.7933333333333333\n",
      "Source Recall :  0.6666666666666666\n"
     ]
    },
    {
     "data": {
      "image/png": "[encoded data removed]",
      "text/plain": [
       "<Figure size 432x288 with 1 Axes>"
      ]
     },
     "metadata": {
      "needs_background": "light"
     },
     "output_type": "display_data"
    }
   ],
   "source": [
    "logdir = \"results/NZ_CIFAR_6/logs/\"\n",
    "src_class = 6 # TARGET CLASS TO BE ATTACKED\n",
    "ar, cm = find_results(logdir, src_class)"
   ]
  },
  {
   "cell_type": "code",
   "execution_count": null,
   "metadata": {},
   "outputs": [],
   "source": []
  }
 ],
 "metadata": {
  "kernelspec": {
   "display_name": "Python 3",
   "language": "python",
   "name": "python3"
  },
  "language_info": {
   "codemirror_mode": {
    "name": "ipython",
    "version": 3
   },
   "file_extension": ".py",
   "mimetype": "text/x-python",
   "name": "python",
   "nbconvert_exporter": "python",
   "pygments_lexer": "ipython3",
   "version": "3.7.4"
  }
 },
 "nbformat": 4,
 "nbformat_minor": 2
}
